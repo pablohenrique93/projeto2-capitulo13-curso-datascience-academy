{
  "nbformat": 4,
  "nbformat_minor": 0,
  "metadata": {
    "colab": {
      "provenance": [],
      "toc_visible": true,
      "authorship_tag": "ABX9TyM7xQ4nVB632+vgHeKmXEyy",
      "include_colab_link": true
    },
    "kernelspec": {
      "name": "python3",
      "display_name": "Python 3"
    },
    "language_info": {
      "name": "python"
    }
  },
  "cells": [
    {
      "cell_type": "markdown",
      "metadata": {
        "id": "view-in-github",
        "colab_type": "text"
      },
      "source": [
        "<a href=\"https://colab.research.google.com/github/pablohenrique93/projeto2-capitulo13-curso-datascience-academy/blob/main/project_2_ds4_exploratory_data_analysis.ipynb\" target=\"_parent\"><img src=\"https://colab.research.google.com/assets/colab-badge.svg\" alt=\"Open In Colab\"/></a>"
      ]
    },
    {
      "cell_type": "markdown",
      "source": [
        "# Importação das Bibliotecas"
      ],
      "metadata": {
        "id": "mBKyit5Zf0Xp"
      }
    },
    {
      "cell_type": "code",
      "execution_count": null,
      "metadata": {
        "id": "zz3RS1K6efU2"
      },
      "outputs": [],
      "source": [
        "import numpy as np\n",
        "import pandas as pd\n",
        "import matplotlib.pyplot as plt\n",
        "import seaborn as sns\n",
        "import datetime as dt"
      ]
    },
    {
      "cell_type": "markdown",
      "source": [
        "# Carregamento do Dataset"
      ],
      "metadata": {
        "id": "l5KwNxjJgSZY"
      }
    },
    {
      "cell_type": "code",
      "source": [
        "df = pd.read_csv('/content/dataset.csv')"
      ],
      "metadata": {
        "id": "T4rUhHhVgRj-"
      },
      "execution_count": null,
      "outputs": []
    },
    {
      "cell_type": "markdown",
      "source": [
        "# Pré Visualização do Dataset"
      ],
      "metadata": {
        "id": "1mVcLK05hmTg"
      }
    },
    {
      "cell_type": "code",
      "source": [
        "df.head()"
      ],
      "metadata": {
        "id": "s9bidbW3hqtY"
      },
      "execution_count": null,
      "outputs": []
    },
    {
      "cell_type": "code",
      "source": [
        "df.tail()"
      ],
      "metadata": {
        "id": "IL635KkNhyPx"
      },
      "execution_count": null,
      "outputs": []
    },
    {
      "cell_type": "code",
      "source": [
        "df.shape"
      ],
      "metadata": {
        "colab": {
          "base_uri": "https://localhost:8080/"
        },
        "id": "aZXBUBr0hvNA",
        "outputId": "4fd8195f-ea62-41d3-cd53-c831578890d0"
      },
      "execution_count": null,
      "outputs": [
        {
          "output_type": "execute_result",
          "data": {
            "text/plain": [
              "(9994, 21)"
            ]
          },
          "metadata": {},
          "execution_count": 10
        }
      ]
    },
    {
      "cell_type": "markdown",
      "source": [
        "# Análise Exploratória"
      ],
      "metadata": {
        "id": "T50i-DYoh-Xw"
      }
    },
    {
      "cell_type": "code",
      "source": [
        "df.columns"
      ],
      "metadata": {
        "id": "5LQDejIOiByR"
      },
      "execution_count": null,
      "outputs": []
    },
    {
      "cell_type": "code",
      "source": [
        "df.dtypes"
      ],
      "metadata": {
        "id": "YDJK4n3qiGsJ"
      },
      "execution_count": null,
      "outputs": []
    },
    {
      "cell_type": "code",
      "source": [
        "# Resumo Estatístico\n",
        "df['Valor_Venda'].describe()"
      ],
      "metadata": {
        "id": "Tb9drtEDkViZ"
      },
      "execution_count": null,
      "outputs": []
    },
    {
      "cell_type": "code",
      "source": [
        "# Verificando se há registros duplicados\n",
        "df[df.duplicated()]"
      ],
      "metadata": {
        "id": "1IXWhJtEkkbZ"
      },
      "execution_count": null,
      "outputs": []
    },
    {
      "cell_type": "code",
      "source": [
        "# Verificando de há valores ausentes\n",
        "df.isnull().sum()"
      ],
      "metadata": {
        "id": "tJOIydk2lGi0"
      },
      "execution_count": null,
      "outputs": []
    },
    {
      "cell_type": "markdown",
      "source": [
        "# Pergunta de Negócio 1:"
      ],
      "metadata": {
        "id": "zP8jQnZxkFRB"
      }
    },
    {
      "cell_type": "markdown",
      "source": [
        "## Qual Cidade com Maior Valor de Venda de Produtos da Categoria 'Office Supplies'?"
      ],
      "metadata": {
        "id": "wMaKiaSem7lR"
      }
    },
    {
      "cell_type": "code",
      "source": [
        "# Primeiro filtramos o dataframe com os registros da categoria que desejamos\n",
        "df_p1 = df[df['Categoria'] == 'Office Supplies']"
      ],
      "metadata": {
        "id": "sr3yWvJakIFB"
      },
      "execution_count": null,
      "outputs": []
    },
    {
      "cell_type": "code",
      "source": [
        "# Em seguida agrupamos por cidade e calculamos o total de valor_venda\n",
        "df_p1_total = df_p1.groupby('Cidade')['Valor_Venda'].sum()"
      ],
      "metadata": {
        "id": "46AtOjRcnESM"
      },
      "execution_count": null,
      "outputs": []
    },
    {
      "cell_type": "code",
      "source": [
        "#  Então encontramos a cidade com maior valor de venda\n",
        "cidade_maior_venda = df_p1_total.idxmax()\n",
        "print(\"Cidade com maior valor de venda para 'Office Supplies':\", cidade_maior_venda)"
      ],
      "metadata": {
        "id": "HiTQ-LqpnMjZ"
      },
      "execution_count": null,
      "outputs": []
    },
    {
      "cell_type": "code",
      "source": [
        "# Para conferir o resultado\n",
        "df_p1_total.sort_values(ascending = False)"
      ],
      "metadata": {
        "id": "2-u0-Ft4nzAz"
      },
      "execution_count": null,
      "outputs": []
    },
    {
      "cell_type": "markdown",
      "source": [
        "# Pergunta de Negócio 2:"
      ],
      "metadata": {
        "id": "9tqmwCI4oBVL"
      }
    },
    {
      "cell_type": "markdown",
      "source": [
        "## Qual o Total de Vendas Por Data do Pedido?\n",
        "## Demonstre o resultado através de um gráfico de barras."
      ],
      "metadata": {
        "id": "KF462NV7oHfM"
      }
    },
    {
      "cell_type": "code",
      "source": [
        "# Calculamos o total de vendas para cada data de pedido\n",
        "df_p2 = df.groupby('Data_Pedido')['Valor_Venda'].sum()"
      ],
      "metadata": {
        "id": "mYjm3MvtoPC1"
      },
      "execution_count": null,
      "outputs": []
    },
    {
      "cell_type": "code",
      "source": [
        "df_p2.head()"
      ],
      "metadata": {
        "id": "ZwMPIMm_oj_D"
      },
      "execution_count": null,
      "outputs": []
    },
    {
      "cell_type": "code",
      "source": [
        "# Plot\n",
        "plt.figure(figsize = (20, 6)) # Tamanho da figura (20 = largura, 6 = altura)\n",
        "df_p2.plot(x = 'Data_Pedido', y = 'Valor_Venda', color = 'green') # Definição de Colunas e Cores\n",
        "plt.title('Total de Vendas Por Data do Pedido') # Título\n",
        "plt.show() # Exibição"
      ],
      "metadata": {
        "id": "Loc_Cdiiomz7"
      },
      "execution_count": null,
      "outputs": []
    },
    {
      "cell_type": "markdown",
      "source": [
        "# Pergunta de Negócio 3:"
      ],
      "metadata": {
        "id": "B-fJyX6B4SnT"
      }
    },
    {
      "cell_type": "markdown",
      "source": [
        "## Qual o Total de Vendas por Estado?\n",
        "\n",
        "## Demonstre o resultado através de um gráfico de barras."
      ],
      "metadata": {
        "id": "vinyxd-84XuQ"
      }
    },
    {
      "cell_type": "code",
      "source": [
        "# Agrupamos por estado e calculamos o total de vendas\n",
        "df_p3 = df.groupby('Estado')['Valor_Venda'].sum().reset_index()"
      ],
      "metadata": {
        "id": "EDfBA54_4UAB"
      },
      "execution_count": null,
      "outputs": []
    },
    {
      "cell_type": "code",
      "source": [
        "# Plot\n",
        "plt.figure(figsize = (16, 6))\n",
        "sns.barplot(data = df_p3,\n",
        "            y = 'Valor_Venda',\n",
        "            x = 'Estado').set(title = 'Vendas Por Estado')\n",
        "plt.xticks(rotation = 80)\n",
        "plt.show()"
      ],
      "metadata": {
        "id": "XYzRuYkW5J1_"
      },
      "execution_count": null,
      "outputs": []
    },
    {
      "cell_type": "markdown",
      "source": [
        "# Pergunta de Negócio 4:"
      ],
      "metadata": {
        "id": "P-AyGZx850ha"
      }
    },
    {
      "cell_type": "markdown",
      "source": [
        "## Quais São as 10 Cidades com Maior Total de Vendas?\n",
        "\n",
        "## Demonstre o resultado através de um gráfico de barras."
      ],
      "metadata": {
        "id": "Ws-P8WWr56w3"
      }
    },
    {
      "cell_type": "code",
      "source": [
        "# Agrupamos por cidade, calculamos o total de vendas e ordenamos listando somente os 10 primeiros registros\n",
        "df_p4 = df.groupby('Cidade')['Valor_Venda'].sum().reset_index().sort_values(by = 'Valor_Venda',\n",
        "                                                                                    ascending = False).head(10)"
      ],
      "metadata": {
        "id": "E8VevXqy5-Cv"
      },
      "execution_count": null,
      "outputs": []
    },
    {
      "cell_type": "code",
      "source": [
        "df_p4.head(10)"
      ],
      "metadata": {
        "id": "lXvyv9YO6Fmv"
      },
      "execution_count": null,
      "outputs": []
    },
    {
      "cell_type": "code",
      "source": [
        "# Plot\n",
        "plt.figure(figsize = (16, 6))\n",
        "sns.set_palette('coolwarm')\n",
        "sns.barplot(data = df_p4,\n",
        "            y = 'Valor_Venda',\n",
        "            x = 'Cidade').set(title = 'As 10 Cidades com Maior Total de Vendas')\n",
        "plt.show()"
      ],
      "metadata": {
        "id": "7k5hNUoh6NlX"
      },
      "execution_count": null,
      "outputs": []
    },
    {
      "cell_type": "markdown",
      "source": [
        "# Pergunta de Negócio 5:"
      ],
      "metadata": {
        "id": "PMpBNWNk6xIv"
      }
    },
    {
      "cell_type": "markdown",
      "source": [
        "## Qual Segmento Teve o Maior Total de Vendas?\n",
        "\n",
        "## Demonstre o resultado através de um gráfico de pizza."
      ],
      "metadata": {
        "id": "y5_Ux5uo6yYm"
      }
    },
    {
      "cell_type": "code",
      "source": [
        "# Agrupamos por segmento e calculamos o total de vendas\n",
        "df_p5 = df.groupby('Segmento')['Valor_Venda'].sum().reset_index().sort_values(by = 'Valor_Venda',\n",
        "                                                                                      ascending = False)"
      ],
      "metadata": {
        "id": "I0W6A4mr62he"
      },
      "execution_count": null,
      "outputs": []
    },
    {
      "cell_type": "code",
      "source": [
        "df_p5.head()"
      ],
      "metadata": {
        "id": "Rw1IA6CA7A7H"
      },
      "execution_count": null,
      "outputs": []
    },
    {
      "cell_type": "code",
      "source": [
        "# Função para converter os dados em valor absoluto\n",
        "def autopct_format(values):\n",
        "    def my_format(pct):\n",
        "        total = sum(values)\n",
        "        val = int(round(pct * total / 100.0))\n",
        "        return ' $ {v:d}'.format(v = val)\n",
        "    return my_format"
      ],
      "metadata": {
        "id": "pJoJaptf7Hhu"
      },
      "execution_count": null,
      "outputs": []
    },
    {
      "cell_type": "code",
      "source": [
        "# Plot\n",
        "\n",
        "# Tamanho da figura\n",
        "plt.figure(figsize = (16, 6))\n",
        "\n",
        "# Gráfico de pizza\n",
        "plt.pie(df_p5['Valor_Venda'],\n",
        "        labels = df_p5['Segmento'],\n",
        "        autopct = autopct_format(df_p5['Valor_Venda']),\n",
        "        startangle = 90)\n",
        "\n",
        "# Limpa o círculo central\n",
        "centre_circle = plt.Circle((0, 0), 0.82, fc = 'white') # Medidas do Círculo e Preenchimento com cor, neste caso, branca\n",
        "fig = plt.gcf()\n",
        "fig.gca().add_artist(centre_circle)\n",
        "\n",
        "# Labels e anotações\n",
        "plt.annotate(text = 'Total de Vendas: ' + '$ ' + str(int(sum(df_p5['Valor_Venda']))), xy = (-0.25, 0))\n",
        "plt.title('Total de Vendas Por Segmento')\n",
        "plt.show()"
      ],
      "metadata": {
        "id": "CKOFucUt7MMu"
      },
      "execution_count": null,
      "outputs": []
    },
    {
      "cell_type": "markdown",
      "source": [
        "# Pergunta de Negócio 6 (Desafio Nível Baby):"
      ],
      "metadata": {
        "id": "8dXW0W-i8eSs"
      }
    },
    {
      "cell_type": "markdown",
      "source": [
        "## Qual o Total de Vendas Por Segmento e Por Ano?"
      ],
      "metadata": {
        "id": "egvJFK2m8h--"
      }
    },
    {
      "cell_type": "code",
      "source": [
        "df.head()"
      ],
      "metadata": {
        "id": "l0_T_wmW80ft"
      },
      "execution_count": null,
      "outputs": []
    },
    {
      "cell_type": "code",
      "source": [
        "# Convertemos a coluna de data para o tipo datetime para obter o formato adequado\n",
        "df['Data_Pedido'] = pd.to_datetime(df['Data_Pedido'], dayfirst = True)"
      ],
      "metadata": {
        "id": "3dM3wZAP8fi8"
      },
      "execution_count": null,
      "outputs": []
    },
    {
      "cell_type": "code",
      "source": [
        "# Extraímos o ano criando nova variável\n",
        "df['Ano'] = df['Data_Pedido'].dt.year"
      ],
      "metadata": {
        "id": "oW6dxtvq8-1F"
      },
      "execution_count": null,
      "outputs": []
    },
    {
      "cell_type": "code",
      "source": [
        "df.head()"
      ],
      "metadata": {
        "id": "PgoZwq7k9Fyf"
      },
      "execution_count": null,
      "outputs": []
    },
    {
      "cell_type": "code",
      "source": [
        "# Total de vendas por segmento e por ano\n",
        "df_p6 = df.groupby(['Ano', 'Segmento'])['Valor_Venda'].sum()"
      ],
      "metadata": {
        "id": "F7tvMTBl9O9X"
      },
      "execution_count": null,
      "outputs": []
    },
    {
      "cell_type": "code",
      "source": [
        "df_p6"
      ],
      "metadata": {
        "id": "bGHGe7Nq9VO8"
      },
      "execution_count": null,
      "outputs": []
    },
    {
      "cell_type": "markdown",
      "source": [
        "# Pergunta de Negócio 7 (Desafio Nível Júnior):"
      ],
      "metadata": {
        "id": "eAKhAKjpFF1c"
      }
    },
    {
      "cell_type": "markdown",
      "source": [
        "Os gestores da empresa estão considerando conceder diferentes faixas de descontos e gostariam de fazer uma simulação com base na regra abaixo:\n",
        "\n",
        "- Se o Valor_Venda for maior que 1000 recebe 15% de desconto.\n",
        "- Se o Valor_Venda for menor que 1000 recebe 10% de desconto.\n",
        "\n",
        "## Quantas Vendas Receberiam 15% de Desconto?"
      ],
      "metadata": {
        "id": "V8T3wQvBFLZ1"
      }
    },
    {
      "cell_type": "code",
      "source": [
        "# Cria uma nova coluna de acordo com a regra definida acima\n",
        "df['Desconto'] = np.where(df['Valor_Venda'] > 1000, 0.15, 0.10)"
      ],
      "metadata": {
        "id": "_UJBHF8bFK1V"
      },
      "execution_count": null,
      "outputs": []
    },
    {
      "cell_type": "code",
      "source": [
        "df.head()"
      ],
      "metadata": {
        "id": "ch6wFGFSFXZG"
      },
      "execution_count": null,
      "outputs": []
    },
    {
      "cell_type": "code",
      "source": [
        "# Total por cada valor da variável\n",
        "df['Desconto'].value_counts()"
      ],
      "metadata": {
        "id": "WvXioI2IFgDW"
      },
      "execution_count": null,
      "outputs": []
    },
    {
      "cell_type": "code",
      "source": [
        "print('No Total 457 Vendas Receberiam Desconto de 15%.')"
      ],
      "metadata": {
        "id": "HAL7kSdvFl5V"
      },
      "execution_count": null,
      "outputs": []
    },
    {
      "cell_type": "markdown",
      "source": [
        "## Pergunta de Negócio 8 (Desafio Nível Master):\n"
      ],
      "metadata": {
        "id": "CoSEqP3JGQxn"
      }
    },
    {
      "cell_type": "markdown",
      "source": [
        "## Considere Que a Empresa Decida Conceder o Desconto de 15% do Item Anterior. Qual Seria a Média do Valor de Venda Antes e Depois do Desconto?"
      ],
      "metadata": {
        "id": "yl8PyKXEGR4e"
      }
    },
    {
      "cell_type": "code",
      "source": [
        "# Criamos uma coluna calculando o valor de venda menos o desconto\n",
        "df['Valor_Venda_Desconto'] = df['Valor_Venda'] - (df['Valor_Venda'] * df['Desconto'])"
      ],
      "metadata": {
        "id": "ulsSKlXyGW1G"
      },
      "execution_count": null,
      "outputs": []
    },
    {
      "cell_type": "code",
      "source": [
        "df.head()"
      ],
      "metadata": {
        "id": "4gE9c6YqGe7H"
      },
      "execution_count": null,
      "outputs": []
    },
    {
      "cell_type": "code",
      "source": [
        "# Filtrando as vendas antes do desconto de 15%\n",
        "df_dsa_p8_vendas_antes_desconto = df.loc[df['Desconto'] == 0.15, 'Valor_Venda']"
      ],
      "metadata": {
        "id": "Qq7nk08wGlLo"
      },
      "execution_count": null,
      "outputs": []
    },
    {
      "cell_type": "code",
      "source": [
        "# Filtrando as vendas depois do desconto de 15%\n",
        "df_dsa_p8_vendas_depois_desconto = df.loc[df['Desconto'] == 0.15, 'Valor_Venda_Desconto']"
      ],
      "metadata": {
        "id": "Mg3-jp2-Gs0N"
      },
      "execution_count": null,
      "outputs": []
    },
    {
      "cell_type": "code",
      "source": [
        "# Calcula a média das vendas antes do desconto de 15%\n",
        "media_vendas_antes_desconto = df_dsa_p8_vendas_antes_desconto.mean()"
      ],
      "metadata": {
        "id": "P3_bhTBTGz0l"
      },
      "execution_count": null,
      "outputs": []
    },
    {
      "cell_type": "code",
      "source": [
        "# Calcula a média das vendas depois do desconto de 15%\n",
        "media_vendas_depois_desconto = df_dsa_p8_vendas_depois_desconto.mean()"
      ],
      "metadata": {
        "id": "zqRX8rWBG4XA"
      },
      "execution_count": null,
      "outputs": []
    },
    {
      "cell_type": "code",
      "source": [
        "print(\"Média das vendas antes do desconto de 15%:\", round(media_vendas_antes_desconto, 2))"
      ],
      "metadata": {
        "id": "d9oscKdwG7Lo"
      },
      "execution_count": null,
      "outputs": []
    },
    {
      "cell_type": "code",
      "source": [
        "print(\"Média das vendas depois do desconto de 15%:\", round(media_vendas_depois_desconto, 2))"
      ],
      "metadata": {
        "id": "dOYKd1JXG8fe"
      },
      "execution_count": null,
      "outputs": []
    },
    {
      "cell_type": "markdown",
      "source": [
        "# Pergunta de Negócio 9 (Desafio Nível Master Ninja):"
      ],
      "metadata": {
        "id": "7e3dRCfXHFK1"
      }
    },
    {
      "cell_type": "markdown",
      "source": [
        "## Qual o Média de Vendas Por Segmento, Por Ano e Por Mês?\n",
        "\n",
        "## Demonstre o resultado através de gráfico de linha."
      ],
      "metadata": {
        "id": "l7IvHPaoIJs0"
      }
    },
    {
      "cell_type": "code",
      "source": [
        "# Extraímos o mês e gravamos em uma nova variável\n",
        "df['Mes'] = df['Data_Pedido'].dt.month"
      ],
      "metadata": {
        "id": "Dmm91EIBIQBc"
      },
      "execution_count": null,
      "outputs": []
    },
    {
      "cell_type": "code",
      "source": [
        "df.head()"
      ],
      "metadata": {
        "id": "z-J9VXAHIbY8"
      },
      "execution_count": null,
      "outputs": []
    },
    {
      "cell_type": "code",
      "source": [
        "# Agrupamos por ano, mês e segmento e calculamos estatísticas de agregação\n",
        "df_p9 = df.groupby(['Ano', 'Mes', 'Segmento'])['Valor_Venda'].agg([np.sum, np.mean, np.median])"
      ],
      "metadata": {
        "id": "GDYKdLDqIfws"
      },
      "execution_count": null,
      "outputs": []
    },
    {
      "cell_type": "code",
      "source": [
        "df_p9"
      ],
      "metadata": {
        "id": "6W2UjBHCImR-"
      },
      "execution_count": null,
      "outputs": []
    },
    {
      "cell_type": "code",
      "source": [
        "# Vamos extrair os níveis\n",
        "anos = df_p9.index.get_level_values(0) #índice 0 (Ano)\n",
        "meses = df_p9.index.get_level_values(1) #índice 1 (Mês)\n",
        "segmentos = df_p9.index.get_level_values(2) #índice 2 (Segmento)"
      ],
      "metadata": {
        "id": "pHiRKr6yIwTs"
      },
      "execution_count": null,
      "outputs": []
    },
    {
      "cell_type": "code",
      "source": [
        "# Plot\n",
        "plt.figure(figsize = (12, 6))\n",
        "sns.set() # Limpar as configs do seaborn, pois ja utilizamos la em cima com algumas pré definções\n",
        "fig1 = sns.relplot(kind = 'line', # Tipo, nesse caso, Linha\n",
        "                   data = df_p9,\n",
        "                   y = 'mean',\n",
        "                   x = meses,\n",
        "                   hue = segmentos,\n",
        "                   col = anos,\n",
        "                   col_wrap = 4)\n",
        "plt.show()"
      ],
      "metadata": {
        "id": "9MW2LPkGI2WU"
      },
      "execution_count": null,
      "outputs": []
    },
    {
      "cell_type": "markdown",
      "source": [
        "# Pergunta de Negócio 10 (Desafio Nível Master Ninja das Galáxias):"
      ],
      "metadata": {
        "id": "VwlRdo8OKhzB"
      }
    },
    {
      "cell_type": "markdown",
      "source": [
        "## Qual o Total de Vendas Por Categoria e SubCategoria, Considerando Somente as Top 12 SubCategorias?\n",
        "\n",
        "## Demonstre tudo através de um único gráfico."
      ],
      "metadata": {
        "id": "s0gs8r7kKjK9"
      }
    },
    {
      "cell_type": "code",
      "source": [
        "df.head()"
      ],
      "metadata": {
        "id": "ZsX--nZOKnJP"
      },
      "execution_count": null,
      "outputs": []
    },
    {
      "cell_type": "code",
      "source": [
        "# Agrupamos por categoria e subcategoria e calculamos a soma somente para variáveus numéricas\n",
        "df_p10 = df.groupby(['Categoria',\n",
        "                             'SubCategoria']).sum(numeric_only = True).sort_values('Valor_Venda',\n",
        "                                                                                   ascending = False).head(12)"
      ],
      "metadata": {
        "id": "goNh_PSxKsN9"
      },
      "execution_count": null,
      "outputs": []
    },
    {
      "cell_type": "code",
      "source": [
        "# Convertemos a coluna Valor_Venda em número inteiro e classificamos por categoria\n",
        "df_p10 = df_p10[['Valor_Venda']].astype(int).sort_values(by = 'Categoria').reset_index()"
      ],
      "metadata": {
        "id": "Z6KHulWbKyBd"
      },
      "execution_count": null,
      "outputs": []
    },
    {
      "cell_type": "markdown",
      "source": [
        "Obs: Classificar o item acima por categoria é importante para preencher o gráfico com as subcategorias para cada categoria de forma ordenada."
      ],
      "metadata": {
        "id": "GuSQm5OCK6o_"
      }
    },
    {
      "cell_type": "code",
      "source": [
        "# Dataframe com categorias e subcategorias\n",
        "df_p10"
      ],
      "metadata": {
        "id": "NWkIz26eK3y9"
      },
      "execution_count": null,
      "outputs": []
    },
    {
      "cell_type": "code",
      "source": [
        "# Criamos outro dataframe somente com os totais por categoria\n",
        "df_p10_cat = df_p10.groupby('Categoria').sum(numeric_only = True).reset_index()"
      ],
      "metadata": {
        "id": "gumEVtMiLDBs"
      },
      "execution_count": null,
      "outputs": []
    },
    {
      "cell_type": "code",
      "source": [
        "# Dataframe com categorias\n",
        "df_p10_cat"
      ],
      "metadata": {
        "id": "JnU2vVmqLNUM"
      },
      "execution_count": null,
      "outputs": []
    },
    {
      "cell_type": "code",
      "source": [
        "# Listas de cores para categorias\n",
        "cores_categorias = ['#5d00de',\n",
        "                    '#0ee84f',\n",
        "                    '#e80e27']"
      ],
      "metadata": {
        "id": "vceJSMBoLQyD"
      },
      "execution_count": null,
      "outputs": []
    },
    {
      "cell_type": "code",
      "source": [
        "# Listas de cores para subcategorias\n",
        "cores_subcategorias = ['#aa8cd4',\n",
        "                       '#aa8cd5',\n",
        "                       '#aa8cd6',\n",
        "                       '#aa8cd7',\n",
        "                       '#26c957',\n",
        "                       '#26c958',\n",
        "                       '#26c959',\n",
        "                       '#26c960',\n",
        "                       '#e65e65',\n",
        "                       '#e65e66',\n",
        "                       '#e65e67',\n",
        "                       '#e65e68']"
      ],
      "metadata": {
        "id": "N8vWPQO2LVXL"
      },
      "execution_count": null,
      "outputs": []
    },
    {
      "cell_type": "code",
      "source": [
        "# Plot\n",
        "\n",
        "# Tamanho da figura\n",
        "fig, ax = plt.subplots(figsize = (18,12))\n",
        "\n",
        "# Gráfico das categorias\n",
        "p1 = ax.pie(df_p10_cat['Valor_Venda'],\n",
        "            radius = 1,\n",
        "            labels = df_p10_cat['Categoria'],\n",
        "            wedgeprops = dict(edgecolor = 'white'), #Divisória do gráfico\n",
        "            colors = cores_categorias)\n",
        "\n",
        "# Gráfico das subcategorias\n",
        "p2 = ax.pie(df_p10['Valor_Venda'],\n",
        "            radius = 0.9,\n",
        "            labels = df_p10['SubCategoria'],\n",
        "            autopct = autopct_format(df_p10['Valor_Venda']),\n",
        "            colors = cores_subcategorias,\n",
        "            labeldistance = 0.7,\n",
        "            wedgeprops = dict(edgecolor = 'white'),\n",
        "            pctdistance = 0.53,\n",
        "            rotatelabels = True)\n",
        "\n",
        "# Limpa o centro do círculo\n",
        "centre_circle = plt.Circle((0, 0), 0.6, fc = 'white')\n",
        "\n",
        "# Labels e anotações\n",
        "fig = plt.gcf()\n",
        "fig.gca().add_artist(centre_circle)\n",
        "plt.annotate(text = 'Total de Vendas: ' + '$ ' + str(int(sum(df_p10['Valor_Venda']))), xy = (-0.2, 0))\n",
        "plt.title('Total de Vendas Por Categoria e Top 12 SubCategorias')\n",
        "plt.show()"
      ],
      "metadata": {
        "id": "vVkXZ4TiLYsz"
      },
      "execution_count": null,
      "outputs": []
    },
    {
      "cell_type": "markdown",
      "source": [
        "# FIM"
      ],
      "metadata": {
        "id": "SHaU0ODROI2C"
      }
    }
  ]
}